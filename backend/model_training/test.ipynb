{
 "cells": [
  {
   "cell_type": "code",
   "execution_count": 1,
   "metadata": {},
   "outputs": [
    {
     "name": "stdout",
     "output_type": "stream",
     "text": [
      "Libraries imported successfully!\n"
     ]
    }
   ],
   "source": [
    "import pandas as pd\n",
    "import numpy as np\n",
    "import torch\n",
    "import torch.nn as nn\n",
    "import torch.optim as optim\n",
    "from sklearn.preprocessing import MinMaxScaler\n",
    "\n",
    "print(\"Libraries imported successfully!\")\n"
   ]
  },
  {
   "cell_type": "code",
   "execution_count": 4,
   "metadata": {},
   "outputs": [
    {
     "name": "stdout",
     "output_type": "stream",
     "text": [
      "['AAPL_cash_flow.csv', '.DS_Store', 'cleaned', 'IBM_income_statement.csv', 'AAPL_income_statement.csv', 'IBM_cash_flow.csv', 'AAPL_balance_sheet.csv', 'IBM_balance_sheet.csv']\n"
     ]
    }
   ],
   "source": [
    "import os\n",
    "print(os.listdir(\"/Users/kdn_aigayatrikadam/Desktop/Projects/Project-5/AI Powered financial reporting/backend/data_processing/financial_reports\"))\n"
   ]
  },
  {
   "cell_type": "code",
   "execution_count": 5,
   "metadata": {},
   "outputs": [
    {
     "name": "stdout",
     "output_type": "stream",
     "text": [
      "Data loaded and sorted successfully!\n"
     ]
    }
   ],
   "source": [
    "# Load cleaned financial data (e.g., Balance Sheet)\n",
    "df = pd.read_csv(\"/Users/kdn_aigayatrikadam/Desktop/Projects/Project-5/AI Powered financial reporting/backend/data_processing/financial_reports/cleaned/AAPL_balance_sheet_cleaned.csv\")\n",
    "\n",
    "\n",
    "# Convert \"Year\" column to datetime and sort\n",
    "df[\"year\"] = pd.to_datetime(df[\"year\"])\n",
    "df = df.sort_values(\"year\")\n",
    "\n",
    "# Select relevant financial metric for forecasting\n",
    "target_col = \"totalassets\"  # Example: Predict total assets\n",
    "data = df[[target_col]].values  # Convert to NumPy array\n",
    "\n",
    "print(\"Data loaded and sorted successfully!\")\n"
   ]
  },
  {
   "cell_type": "code",
   "execution_count": 6,
   "metadata": {},
   "outputs": [
    {
     "name": "stdout",
     "output_type": "stream",
     "text": [
      "Data sorted by year:\n",
      "         year  reportedcurrency   totalassets  totalcurrentassets  \\\n",
      "16 2008-09-30               0.0   36171000000         30006000000   \n",
      "15 2009-09-30               0.0   47501000000         31555000000   \n",
      "14 2010-09-30               0.0   75183000000         41678000000   \n",
      "13 2011-09-30               0.0  116371000000         44988000000   \n",
      "12 2012-09-30               0.0  176064000000         57653000000   \n",
      "\n",
      "    cashandcashequivalentsatcarryingvalue  cashandshortterminvestments  \\\n",
      "16                            11875000000                  11875000000   \n",
      "15                             5263000000                  23464000000   \n",
      "14                            11261000000                  25620000000   \n",
      "13                             9815000000                  25952000000   \n",
      "12                            10746000000                  29129000000   \n",
      "\n",
      "     inventory  currentnetreceivables  totalnoncurrentassets  \\\n",
      "16   509000000           0.000000e+00             4882000000   \n",
      "15   455000000           3.361000e+09            23520000000   \n",
      "14  1051000000           5.510000e+09            57101000000   \n",
      "13   776000000           5.369000e+09           123607000000   \n",
      "12   791000000           1.093000e+10           213533000000   \n",
      "\n",
      "    propertyplantequipment  ...  longtermdebtnoncurrent  \\\n",
      "16              2455000000  ...                     0.0   \n",
      "15              1780000000  ...                     0.0   \n",
      "14              2174000000  ...                     0.0   \n",
      "13              7777000000  ...                     0.0   \n",
      "12             15452000000  ...                     0.0   \n",
      "\n",
      "    shortlongtermdebttotal  othercurrentliabilities  \\\n",
      "16                     0.0               3719000000   \n",
      "15                     0.0               3376000000   \n",
      "14                     0.0               5723000000   \n",
      "13                     0.0               9247000000   \n",
      "12                     0.0              11414000000   \n",
      "\n",
      "    othernoncurrentliabilities  totalshareholderequity  treasurystock  \\\n",
      "16                  1745000000             22297000000            0.0   \n",
      "15                  3502000000             31640000000            0.0   \n",
      "14                  5531000000             47791000000            0.0   \n",
      "13                 10100000000             76615000000            0.0   \n",
      "12                 16664000000            118210000000            0.0   \n",
      "\n",
      "    retainedearnings  commonstock  commonstocksharesoutstanding  symbol  \n",
      "16       15129000000   7177000000                     888325973    AAPL  \n",
      "15       23353000000   8210000000                     899805500    AAPL  \n",
      "14       37169000000  10668000000                     915970050    AAPL  \n",
      "13       62841000000  13331000000                     929277000    AAPL  \n",
      "12      101289000000  16422000000                     939208000    AAPL  \n",
      "\n",
      "[5 rows x 39 columns]\n"
     ]
    }
   ],
   "source": [
    "# Convert \"Year\" column to datetime and sort\n",
    "df[\"year\"] = pd.to_datetime(df[\"year\"])\n",
    "df = df.sort_values(\"year\")\n",
    "\n",
    "print(\"Data sorted by year:\")\n",
    "print(df.head())  # Display first few rows\n"
   ]
  },
  {
   "cell_type": "code",
   "execution_count": 7,
   "metadata": {},
   "outputs": [
    {
     "name": "stdout",
     "output_type": "stream",
     "text": [
      "Selected target column data (first 5 rows):\n",
      "[[ 36171000000]\n",
      " [ 47501000000]\n",
      " [ 75183000000]\n",
      " [116371000000]\n",
      " [176064000000]]\n"
     ]
    }
   ],
   "source": [
    "# Select relevant financial metric for forecasting\n",
    "target_col = \"totalassets\"  # Example: Predict total assets\n",
    "\n",
    "# Convert the selected column to a NumPy array\n",
    "data = df[[target_col]].values  \n",
    "\n",
    "print(\"Selected target column data (first 5 rows):\")\n",
    "print(data[:5])  # Print first 5 rows\n"
   ]
  },
  {
   "cell_type": "code",
   "execution_count": 8,
   "metadata": {},
   "outputs": [
    {
     "name": "stdout",
     "output_type": "stream",
     "text": [
      "First 5 rows of normalized data:\n",
      "[[0.        ]\n",
      " [0.03340724]\n",
      " [0.11502943]\n",
      " [0.23647493]\n",
      " [0.41248364]]\n"
     ]
    }
   ],
   "source": [
    "from sklearn.preprocessing import MinMaxScaler\n",
    "\n",
    "# Normalize data using MinMaxScaler (scales values between 0 and 1)\n",
    "scaler = MinMaxScaler()\n",
    "data_scaled = scaler.fit_transform(data)\n",
    "\n",
    "print(\"First 5 rows of normalized data:\")\n",
    "print(data_scaled[:5])  # Print first 5 rows after scaling\n",
    "\n"
   ]
  },
  {
   "cell_type": "code",
   "execution_count": 9,
   "metadata": {},
   "outputs": [
    {
     "name": "stdout",
     "output_type": "stream",
     "text": [
      "Sequences created! X shape: (12, 5, 1), y shape: (12, 1)\n"
     ]
    }
   ],
   "source": [
    "# Function to convert data into sequences for LSTM\n",
    "def create_sequences(data, seq_length):\n",
    "    sequences, targets = [], []\n",
    "    for i in range(len(data) - seq_length):\n",
    "        sequences.append(data[i:i+seq_length])  # Input sequence\n",
    "        targets.append(data[i+seq_length])      # Corresponding target value\n",
    "    return np.array(sequences), np.array(targets)\n",
    "\n",
    "# Set sequence length (look-back window)\n",
    "seq_length = 5  # Using past 5 years to predict next year\n",
    "\n",
    "# Generate sequences\n",
    "X, y = create_sequences(data_scaled, seq_length)\n",
    "\n",
    "print(f\"Sequences created! X shape: {X.shape}, y shape: {y.shape}\")\n"
   ]
  },
  {
   "cell_type": "code",
   "execution_count": 10,
   "metadata": {},
   "outputs": [
    {
     "name": "stdout",
     "output_type": "stream",
     "text": [
      "Data successfully converted to PyTorch tensors!\n",
      "X_tensor shape: torch.Size([12, 5, 1]), y_tensor shape: torch.Size([12, 1])\n"
     ]
    }
   ],
   "source": [
    "import torch\n",
    "\n",
    "# Convert NumPy arrays to PyTorch tensors\n",
    "X_tensor = torch.tensor(X, dtype=torch.float32)\n",
    "y_tensor = torch.tensor(y, dtype=torch.float32)\n",
    "\n",
    "print(\"Data successfully converted to PyTorch tensors!\")\n",
    "print(f\"X_tensor shape: {X_tensor.shape}, y_tensor shape: {y_tensor.shape}\")\n"
   ]
  },
  {
   "cell_type": "code",
   "execution_count": 11,
   "metadata": {},
   "outputs": [
    {
     "name": "stdout",
     "output_type": "stream",
     "text": [
      "LSTM Model class defined successfully!\n"
     ]
    }
   ],
   "source": [
    "import torch.nn as nn\n",
    "\n",
    "# Define LSTM Model\n",
    "class LSTMModel(nn.Module):\n",
    "    def __init__(self, input_dim, hidden_dim, output_dim, num_layers):\n",
    "        super(LSTMModel, self).__init__()\n",
    "        self.lstm = nn.LSTM(input_dim, hidden_dim, num_layers, batch_first=True)\n",
    "        self.fc = nn.Linear(hidden_dim, output_dim)\n",
    "\n",
    "    def forward(self, x):\n",
    "        lstm_out, _ = self.lstm(x)  # LSTM layer\n",
    "        return self.fc(lstm_out[:, -1, :])  # Fully connected layer (output last timestep)\n",
    "\n",
    "print(\"LSTM Model class defined successfully!\")\n"
   ]
  },
  {
   "cell_type": "code",
   "execution_count": 12,
   "metadata": {},
   "outputs": [
    {
     "name": "stdout",
     "output_type": "stream",
     "text": [
      "Model, loss function, and optimizer initialized successfully!\n"
     ]
    }
   ],
   "source": [
    "import torch.optim as optim\n",
    "\n",
    "# Model setup\n",
    "input_dim = 1  # One financial metric\n",
    "hidden_dim = 64  # Number of LSTM neurons per layer\n",
    "output_dim = 1  # Predicting a single value\n",
    "num_layers = 2  # Number of stacked LSTM layers\n",
    "\n",
    "# Instantiate the model\n",
    "model = LSTMModel(input_dim, hidden_dim, output_dim, num_layers)\n",
    "\n",
    "# Define Mean Squared Error (MSE) Loss Function\n",
    "criterion = nn.MSELoss()\n",
    "\n",
    "# Use Adam optimizer\n",
    "optimizer = optim.Adam(model.parameters(), lr=0.001)\n",
    "\n",
    "print(\"Model, loss function, and optimizer initialized successfully!\")\n"
   ]
  },
  {
   "cell_type": "code",
   "execution_count": 13,
   "metadata": {},
   "outputs": [
    {
     "name": "stdout",
     "output_type": "stream",
     "text": [
      "Epoch 0, Loss: 0.649507462978363\n",
      "Epoch 10, Loss: 0.2727011740207672\n",
      "Epoch 20, Loss: 0.047684311866760254\n",
      "Epoch 30, Loss: 0.015269222669303417\n",
      "Epoch 40, Loss: 0.01799088530242443\n",
      "Epoch 50, Loss: 0.01501514296978712\n",
      "Epoch 60, Loss: 0.011425647884607315\n",
      "Epoch 70, Loss: 0.009715846739709377\n",
      "Epoch 80, Loss: 0.008707033470273018\n",
      "Epoch 90, Loss: 0.007935632020235062\n",
      "Training complete!\n"
     ]
    }
   ],
   "source": [
    "# Training loop\n",
    "epochs = 100  # Number of training iterations\n",
    "for epoch in range(epochs):\n",
    "    model.train()  # Set model to training mode\n",
    "    optimizer.zero_grad()  # Clear previous gradients\n",
    "\n",
    "    # Forward pass\n",
    "    output = model(X_tensor)\n",
    "    loss = criterion(output, y_tensor)  # Compute loss\n",
    "\n",
    "    # Backward pass\n",
    "    loss.backward()  # Compute gradients\n",
    "    optimizer.step()  # Update weights\n",
    "\n",
    "    # Print loss every 10 epochs\n",
    "    if epoch % 10 == 0:\n",
    "        print(f\"Epoch {epoch}, Loss: {loss.item()}\")\n",
    "\n",
    "print(\"Training complete!\")\n"
   ]
  },
  {
   "cell_type": "code",
   "execution_count": 14,
   "metadata": {},
   "outputs": [
    {
     "name": "stdout",
     "output_type": "stream",
     "text": [
      "Predictions made successfully!\n",
      "[[0.6436561 ]\n",
      " [0.68125415]\n",
      " [0.7248024 ]\n",
      " [0.7731341 ]\n",
      " [0.82093334]]\n"
     ]
    }
   ],
   "source": [
    "# Set model to evaluation mode\n",
    "model.eval()\n",
    "\n",
    "# Make predictions\n",
    "with torch.no_grad():\n",
    "    predictions = model(X_tensor).numpy()  # Convert to NumPy array\n",
    "\n",
    "print(\"Predictions made successfully!\")\n",
    "print(predictions[:5])  # Display first 5 predicted values\n"
   ]
  },
  {
   "cell_type": "code",
   "execution_count": 15,
   "metadata": {},
   "outputs": [
    {
     "name": "stdout",
     "output_type": "stream",
     "text": [
      "Predicted future total assets (original scale):\n",
      "[[2.5446567e+11]\n",
      " [2.6721698e+11]\n",
      " [2.8198627e+11]\n",
      " [2.9837790e+11]\n",
      " [3.1458889e+11]]\n"
     ]
    }
   ],
   "source": [
    "# Inverse transform the predictions back to the original financial scale\n",
    "predicted_values = scaler.inverse_transform(predictions)\n",
    "\n",
    "print(\"Predicted future total assets (original scale):\")\n",
    "print(predicted_values[:5])  # Display first 5 predictions\n"
   ]
  },
  {
   "cell_type": "code",
   "execution_count": 17,
   "metadata": {},
   "outputs": [
    {
     "data": {
      "image/png": "[encoded data removed]",
      "text/plain": [
       "<Figure size 1000x500 with 1 Axes>"
      ]
     },
     "metadata": {},
     "output_type": "display_data"
    }
   ],
   "source": [
    "import matplotlib.pyplot as plt\n",
    "\n",
    "# Prepare actual vs. predicted values\n",
    "actual_values = scaler.inverse_transform(y_tensor.numpy())  # Convert y_tensor back to original scale\n",
    "\n",
    "# Plot the results\n",
    "plt.figure(figsize=(10, 5))\n",
    "plt.plot(actual_values, label=\"Actual Total Assets\", marker='o')\n",
    "plt.plot(predicted_values, label=\"Predicted Total Assets\", marker='x')\n",
    "plt.xlabel(\"Year Index\")\n",
    "plt.ylabel(\"Total Assets (Original Scale)\")\n",
    "plt.title(\"Actual vs. Predicted Total Assets\")\n",
    "plt.legend()\n",
    "plt.grid()\n",
    "plt.show()\n"
   ]
  },
  {
   "cell_type": "code",
   "execution_count": 18,
   "metadata": {},
   "outputs": [
    {
     "name": "stdout",
     "output_type": "stream",
     "text": [
      "         year  reportedcurrency   totalassets  totalcurrentassets  \\\n",
      "16 2008-09-30               0.0   36171000000         30006000000   \n",
      "15 2009-09-30               0.0   47501000000         31555000000   \n",
      "14 2010-09-30               0.0   75183000000         41678000000   \n",
      "13 2011-09-30               0.0  116371000000         44988000000   \n",
      "12 2012-09-30               0.0  176064000000         57653000000   \n",
      "\n",
      "    cashandcashequivalentsatcarryingvalue  cashandshortterminvestments  \\\n",
      "16                            11875000000                  11875000000   \n",
      "15                             5263000000                  23464000000   \n",
      "14                            11261000000                  25620000000   \n",
      "13                             9815000000                  25952000000   \n",
      "12                            10746000000                  29129000000   \n",
      "\n",
      "     inventory  currentnetreceivables  totalnoncurrentassets  \\\n",
      "16   509000000           0.000000e+00             4882000000   \n",
      "15   455000000           3.361000e+09            23520000000   \n",
      "14  1051000000           5.510000e+09            57101000000   \n",
      "13   776000000           5.369000e+09           123607000000   \n",
      "12   791000000           1.093000e+10           213533000000   \n",
      "\n",
      "    propertyplantequipment  ...  longtermdebtnoncurrent  \\\n",
      "16              2455000000  ...                     0.0   \n",
      "15              1780000000  ...                     0.0   \n",
      "14              2174000000  ...                     0.0   \n",
      "13              7777000000  ...                     0.0   \n",
      "12             15452000000  ...                     0.0   \n",
      "\n",
      "    shortlongtermdebttotal  othercurrentliabilities  \\\n",
      "16                     0.0               3719000000   \n",
      "15                     0.0               3376000000   \n",
      "14                     0.0               5723000000   \n",
      "13                     0.0               9247000000   \n",
      "12                     0.0              11414000000   \n",
      "\n",
      "    othernoncurrentliabilities  totalshareholderequity  treasurystock  \\\n",
      "16                  1745000000             22297000000            0.0   \n",
      "15                  3502000000             31640000000            0.0   \n",
      "14                  5531000000             47791000000            0.0   \n",
      "13                 10100000000             76615000000            0.0   \n",
      "12                 16664000000            118210000000            0.0   \n",
      "\n",
      "    retainedearnings  commonstock  commonstocksharesoutstanding  symbol  \n",
      "16       15129000000   7177000000                     888325973    AAPL  \n",
      "15       23353000000   8210000000                     899805500    AAPL  \n",
      "14       37169000000  10668000000                     915970050    AAPL  \n",
      "13       62841000000  13331000000                     929277000    AAPL  \n",
      "12      101289000000  16422000000                     939208000    AAPL  \n",
      "\n",
      "[5 rows x 39 columns]\n",
      "        year  reportedcurrency   totalassets  totalcurrentassets  \\\n",
      "4 2020-09-30               0.0  323888000000        143713000000   \n",
      "3 2021-09-30               0.0  351002000000        134836000000   \n",
      "2 2022-09-30               0.0  352755000000        135405000000   \n",
      "1 2023-09-30               0.0  352583000000        143566000000   \n",
      "0 2024-09-30               0.0  364980000000        152987000000   \n",
      "\n",
      "   cashandcashequivalentsatcarryingvalue  cashandshortterminvestments  \\\n",
      "4                            38016000000                  90943000000   \n",
      "3                            34940000000                  62639000000   \n",
      "2                            23646000000                  48304000000   \n",
      "1                            29965000000                  61555000000   \n",
      "0                            29943000000                  65171000000   \n",
      "\n",
      "    inventory  currentnetreceivables  totalnoncurrentassets  \\\n",
      "4  4061000000           3.744500e+10           180175000000   \n",
      "3  6580000000           5.150600e+10           216166000000   \n",
      "2  4946000000           6.093200e+10           217350000000   \n",
      "1  6331000000           6.098500e+10           209017000000   \n",
      "0  7286000000           6.624300e+10           211993000000   \n",
      "\n",
      "   propertyplantequipment  ...  longtermdebtnoncurrent  \\\n",
      "4             36766000000  ...            9.866700e+10   \n",
      "3             39440000000  ...            1.091060e+11   \n",
      "2             42117000000  ...            9.895900e+10   \n",
      "1             43715000000  ...            9.528100e+10   \n",
      "0             45680000000  ...            8.575000e+10   \n",
      "\n",
      "   shortlongtermdebttotal  othercurrentliabilities  \\\n",
      "4            2.168600e+11              42684000000   \n",
      "3            2.417830e+11              47493000000   \n",
      "2            2.332560e+11              60845000000   \n",
      "1            1.110880e+11              58829000000   \n",
      "0            1.066290e+11              78304000000   \n",
      "\n",
      "   othernoncurrentliabilities  totalshareholderequity  treasurystock  \\\n",
      "4                 54490000000             65339000000            0.0   \n",
      "3                 53325000000             63090000000            0.0   \n",
      "2                 49142000000             50672000000            0.0   \n",
      "1                 49848000000             62146000000            0.0   \n",
      "0                 45888000000             56950000000            0.0   \n",
      "\n",
      "   retainedearnings  commonstock  commonstocksharesoutstanding  symbol  \n",
      "4       14966000000  50779000000                   16976763000    AAPL  \n",
      "3        5562000000  57365000000                   16426786000    AAPL  \n",
      "2       -3068000000  64849000000                   15943425000    AAPL  \n",
      "1        -214000000  73812000000                   15550061000    AAPL  \n",
      "0      -19154000000  83276000000                   15116786000    AAPL  \n",
      "\n",
      "[5 rows x 39 columns]\n",
      "Dataset contains 17 years of data.\n"
     ]
    }
   ],
   "source": [
    "print(df.head())  # Check first few rows\n",
    "print(df.tail())  # Check last few rows\n",
    "print(f\"Dataset contains {len(df)} years of data.\")\n"
   ]
  },
  {
   "cell_type": "code",
   "execution_count": null,
   "metadata": {},
   "outputs": [],
   "source": []
  }
 ],
 "metadata": {
  "kernelspec": {
   "display_name": "env-financial-reporting",
   "language": "python",
   "name": "python3"
  },
  "language_info": {
   "codemirror_mode": {
    "name": "ipython",
    "version": 3
   },
   "file_extension": ".py",
   "mimetype": "text/x-python",
   "name": "python",
   "nbconvert_exporter": "python",
   "pygments_lexer": "ipython3",
   "version": "3.10.12"
  }
 },
 "nbformat": 4,
 "nbformat_minor": 2
}
