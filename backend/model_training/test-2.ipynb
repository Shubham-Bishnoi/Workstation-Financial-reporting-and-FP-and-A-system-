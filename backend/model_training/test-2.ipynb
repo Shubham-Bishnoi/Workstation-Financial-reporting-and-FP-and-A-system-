{
 "cells": [
  {
   "cell_type": "code",
   "execution_count": 1,
   "metadata": {},
   "outputs": [],
   "source": [
    "# Data Processing\n",
    "import pandas as pd\n",
    "import numpy as np\n",
    "\n",
    "# PyTorch for LSTM Model\n",
    "import torch\n",
    "import torch.nn as nn\n",
    "import torch.optim as optim\n",
    "\n",
    "# Sklearn for Scaling\n",
    "from sklearn.preprocessing import MinMaxScaler\n"
   ]
  },
  {
   "cell_type": "code",
   "execution_count": 4,
   "metadata": {},
   "outputs": [
    {
     "name": "stdout",
     "output_type": "stream",
     "text": [
      "Available files in financial_reports folder:\n",
      "['AAPL_cash_flow.csv', '.DS_Store', 'cleaned', 'IBM_income_statement.csv', 'AAPL_income_statement.csv', 'IBM_cash_flow.csv', 'AAPL_balance_sheet.csv', 'IBM_balance_sheet.csv']\n"
     ]
    }
   ],
   "source": [
    "import os\n",
    "\n",
    "# Define the path to your financial reports directory\n",
    "financial_reports_path = \"/Users/kdn_aigayatrikadam/Desktop/Projects/Project-5/AI Powered financial reporting/backend/data_processing/financial_reports\"\n",
    "\n",
    "# List files in the directory\n",
    "print(\"Available files in financial_reports folder:\")\n",
    "print(os.listdir(financial_reports_path))\n"
   ]
  },
  {
   "cell_type": "code",
   "execution_count": 6,
   "metadata": {},
   "outputs": [
    {
     "name": "stdout",
     "output_type": "stream",
     "text": [
      "Merged dataset preview:\n",
      "         year  reportedcurrency   totalassets  totalcurrentassets  \\\n",
      "15 2009-09-30               0.0   47501000000         31555000000   \n",
      "14 2010-09-30               0.0   75183000000         41678000000   \n",
      "13 2011-09-30               0.0  116371000000         44988000000   \n",
      "12 2012-09-30               0.0  176064000000         57653000000   \n",
      "11 2013-09-30               0.0  207000000000         73286000000   \n",
      "\n",
      "    cashandcashequivalentsatcarryingvalue  cashandshortterminvestments  \\\n",
      "15                             5263000000                  23464000000   \n",
      "14                            11261000000                  25620000000   \n",
      "13                             9815000000                  25952000000   \n",
      "12                            10746000000                  29129000000   \n",
      "11                            14259000000                  40546000000   \n",
      "\n",
      "     inventory  currentnetreceivables  totalnoncurrentassets  \\\n",
      "15   455000000           3.361000e+09            23520000000   \n",
      "14  1051000000           5.510000e+09            57101000000   \n",
      "13   776000000           5.369000e+09           123607000000   \n",
      "12   791000000           1.093000e+10           213533000000   \n",
      "11  1764000000           1.310200e+10           239929000000   \n",
      "\n",
      "    propertyplantequipment  ...  dividendpayoutcommonstock  \\\n",
      "15              1780000000  ...               0.000000e+00   \n",
      "14              2174000000  ...               0.000000e+00   \n",
      "13              7777000000  ...               0.000000e+00   \n",
      "12             15452000000  ...               2.488000e+09   \n",
      "11             16597000000  ...               1.056400e+10   \n",
      "\n",
      "    dividendpayoutpreferredstock  proceedsfromissuanceofcommonstock  \\\n",
      "15                           0.0                        475000000.0   \n",
      "14                           0.0                        912000000.0   \n",
      "13                           0.0                        831000000.0   \n",
      "12                           0.0                        665000000.0   \n",
      "11                           0.0                        530000000.0   \n",
      "\n",
      "    proceedsfromissuanceoflongtermdebtandcapitalsecuritiesnet  \\\n",
      "15                                       0.000000e+00           \n",
      "14                                       0.000000e+00           \n",
      "13                                       0.000000e+00           \n",
      "12                                       0.000000e+00           \n",
      "11                                       1.689600e+10           \n",
      "\n",
      "    proceedsfromissuanceofpreferredstock  proceedsfromrepurchaseofequity  \\\n",
      "15                                   0.0                       475000000   \n",
      "14                                   0.0                       912000000   \n",
      "13                                   0.0                       831000000   \n",
      "12                                   0.0                       665000000   \n",
      "11                                   0.0                    -22330000000   \n",
      "\n",
      "    proceedsfromsaleoftreasurystock  changeincashandcashequivalents  \\\n",
      "15                              0.0                   -6.612000e+09   \n",
      "14                              0.0                    5.998000e+09   \n",
      "13                              0.0                   -1.446000e+09   \n",
      "12                              0.0                    9.310000e+08   \n",
      "11                              0.0                    3.513000e+09   \n",
      "\n",
      "    changeinexchangerate  netincome_y  \n",
      "15                   0.0   8235000000  \n",
      "14                   0.0  14013000000  \n",
      "13                   0.0  25922000000  \n",
      "12                   0.0  41733000000  \n",
      "11                   0.0  37037000000  \n",
      "\n",
      "[5 rows x 90 columns]\n"
     ]
    }
   ],
   "source": [
    "import pandas as pd\n",
    "\n",
    "# Define the path to the cleaned financial reports directory\n",
    "cleaned_path = \"/Users/kdn_aigayatrikadam/Desktop/Projects/Project-5/AI Powered financial reporting/backend/data_processing/financial_reports/cleaned\"\n",
    "\n",
    "# Load cleaned financial statements\n",
    "balance_sheet = pd.read_csv(f\"{cleaned_path}/AAPL_balance_sheet_cleaned.csv\")\n",
    "income_statement = pd.read_csv(f\"{cleaned_path}/AAPL_income_statement_cleaned.csv\")\n",
    "cash_flow = pd.read_csv(f\"{cleaned_path}/AAPL_cash_flow_cleaned.csv\")\n",
    "\n",
    "# Convert \"year\" column to datetime format for sorting\n",
    "balance_sheet[\"year\"] = pd.to_datetime(balance_sheet[\"year\"])\n",
    "income_statement[\"year\"] = pd.to_datetime(income_statement[\"year\"])\n",
    "cash_flow[\"year\"] = pd.to_datetime(cash_flow[\"year\"])\n",
    "\n",
    "# Merge datasets on \"year\" column\n",
    "df = balance_sheet.merge(income_statement, on=[\"year\", \"symbol\", \"reportedcurrency\"], how=\"inner\")\n",
    "df = df.merge(cash_flow, on=[\"year\", \"symbol\", \"reportedcurrency\"], how=\"inner\")\n",
    "\n",
    "# Sort data by year\n",
    "df = df.sort_values(\"year\")\n",
    "\n",
    "# Display first few rows\n",
    "print(\"Merged dataset preview:\")\n",
    "print(df.head())\n"
   ]
  },
  {
   "cell_type": "code",
   "execution_count": 7,
   "metadata": {},
   "outputs": [
    {
     "name": "stdout",
     "output_type": "stream",
     "text": [
      "AAPL_cash_flow_cleaned.csv: [np.int32(2009), np.int32(2010), np.int32(2011), np.int32(2012), np.int32(2013), np.int32(2014), np.int32(2015), np.int32(2016), np.int32(2017), np.int32(2018), np.int32(2019), np.int32(2020), np.int32(2021), np.int32(2022), np.int32(2023), np.int32(2024)]\n",
      "IBM_income_statement_cleaned.csv: [np.int32(2009), np.int32(2010), np.int32(2011), np.int32(2012), np.int32(2013), np.int32(2014), np.int32(2015), np.int32(2016), np.int32(2017), np.int32(2018), np.int32(2019), np.int32(2020), np.int32(2021), np.int32(2022), np.int32(2023), np.int32(2024)]\n",
      "AAPL_balance_sheet_cleaned.csv: [np.int32(2008), np.int32(2009), np.int32(2010), np.int32(2011), np.int32(2012), np.int32(2013), np.int32(2014), np.int32(2015), np.int32(2016), np.int32(2017), np.int32(2018), np.int32(2019), np.int32(2020), np.int32(2021), np.int32(2022), np.int32(2023), np.int32(2024)]\n",
      "AAPL_income_statement_cleaned.csv: [np.int32(2009), np.int32(2010), np.int32(2011), np.int32(2012), np.int32(2013), np.int32(2014), np.int32(2015), np.int32(2016), np.int32(2017), np.int32(2018), np.int32(2019), np.int32(2020), np.int32(2021), np.int32(2022), np.int32(2023), np.int32(2024)]\n",
      "IBM_cash_flow_cleaned.csv: [np.int32(2009), np.int32(2010), np.int32(2011), np.int32(2012), np.int32(2013), np.int32(2014), np.int32(2015), np.int32(2016), np.int32(2017), np.int32(2018), np.int32(2019), np.int32(2020), np.int32(2021), np.int32(2022), np.int32(2023), np.int32(2024)]\n",
      "IBM_balance_sheet_cleaned.csv: [np.int32(2008), np.int32(2009), np.int32(2010), np.int32(2011), np.int32(2012), np.int32(2013), np.int32(2014), np.int32(2015), np.int32(2016), np.int32(2017), np.int32(2018), np.int32(2019), np.int32(2020), np.int32(2021), np.int32(2022), np.int32(2023), np.int32(2024)]\n"
     ]
    }
   ],
   "source": [
    "import pandas as pd\n",
    "import os\n",
    "\n",
    "# Define cleaned data folder path\n",
    "cleaned_data_path = \"/Users/kdn_aigayatrikadam/Desktop/Projects/Project-5/AI Powered financial reporting/backend/data_processing/financial_reports/cleaned\"\n",
    "\n",
    "# List of cleaned files\n",
    "cleaned_files = os.listdir(cleaned_data_path)\n",
    "\n",
    "# Initialize dictionary to store available years\n",
    "company_years = {}\n",
    "\n",
    "# Iterate through cleaned files\n",
    "for file in cleaned_files:\n",
    "    if file.endswith(\".csv\"):  # Ensure it's a CSV file\n",
    "        file_path = os.path.join(cleaned_data_path, file)\n",
    "        df = pd.read_csv(file_path)\n",
    "\n",
    "        # Check available years\n",
    "        if \"year\" in df.columns:\n",
    "            available_years = sorted(pd.to_datetime(df[\"year\"]).dt.year.unique())\n",
    "            company_years[file] = available_years\n",
    "\n",
    "# Print available years for each file\n",
    "for file, years in company_years.items():\n",
    "    print(f\"{file}: {years}\")\n",
    "\n"
   ]
  },
  {
   "cell_type": "code",
   "execution_count": 8,
   "metadata": {},
   "outputs": [
    {
     "name": "stdout",
     "output_type": "stream",
     "text": [
      "Trimmed AAPL_cash_flow_cleaned.csv to 16 years (2009–2024) ✅\n",
      "Trimmed IBM_income_statement_cleaned.csv to 16 years (2009–2024) ✅\n",
      "Trimmed AAPL_balance_sheet_cleaned.csv to 16 years (2009–2024) ✅\n",
      "Trimmed AAPL_income_statement_cleaned.csv to 16 years (2009–2024) ✅\n",
      "Trimmed IBM_cash_flow_cleaned.csv to 16 years (2009–2024) ✅\n",
      "Trimmed IBM_balance_sheet_cleaned.csv to 16 years (2009–2024) ✅\n",
      "All datasets are now consistent with 16 years of data!\n"
     ]
    }
   ],
   "source": [
    "import pandas as pd\n",
    "import os\n",
    "\n",
    "# Define cleaned data folder path\n",
    "cleaned_data_path = \"/Users/kdn_aigayatrikadam/Desktop/Projects/Project-5/AI Powered financial reporting/backend/data_processing/financial_reports/cleaned\"\n",
    "\n",
    "# List of cleaned files\n",
    "cleaned_files = os.listdir(cleaned_data_path)\n",
    "\n",
    "# Target years (last 16 years)\n",
    "target_years = list(range(2009, 2025))\n",
    "\n",
    "# Process each cleaned file\n",
    "for file in cleaned_files:\n",
    "    if file.endswith(\".csv\"):  # Ensure it's a CSV file\n",
    "        file_path = os.path.join(cleaned_data_path, file)\n",
    "        df = pd.read_csv(file_path)\n",
    "\n",
    "        # Convert 'year' to integer for filtering\n",
    "        df[\"year\"] = pd.to_datetime(df[\"year\"]).dt.year\n",
    "\n",
    "        # Keep only target years\n",
    "        df = df[df[\"year\"].isin(target_years)]\n",
    "\n",
    "        # Save the cleaned version back\n",
    "        df.to_csv(file_path, index=False)\n",
    "        print(f\"Trimmed {file} to 16 years (2009–2024) ✅\")\n",
    "\n",
    "print(\"All datasets are now consistent with 16 years of data!\")\n"
   ]
  },
  {
   "cell_type": "code",
   "execution_count": 9,
   "metadata": {},
   "outputs": [
    {
     "name": "stdout",
     "output_type": "stream",
     "text": [
      "Merged Data (first 5 rows):\n",
      "   year  totalcurrentassets  totalnoncurrentassets  totalcurrentliabilities  \\\n",
      "0  2024        152987000000           211993000000             176392000000   \n",
      "1  2023        143566000000           209017000000             145308000000   \n",
      "2  2022        135405000000           217350000000             153982000000   \n",
      "3  2021        134836000000           216166000000             125481000000   \n",
      "4  2020        143713000000           180175000000             105392000000   \n",
      "\n",
      "   totalnoncurrentliabilities  totalshareholderequity  totalrevenue  \\\n",
      "0                131638000000             56950000000  391035000000   \n",
      "1                145129000000             62146000000  379352000000   \n",
      "2                148101000000             50672000000  391397000000   \n",
      "3                162431000000             63090000000  363172000000   \n",
      "4                153157000000             65339000000  271642000000   \n",
      "\n",
      "    grossprofit  operatingincome    netincome  operatingcashflow  \\\n",
      "0  180683000000     123216000000  93736000000       118254000000   \n",
      "1  169148000000     114301000000  96995000000       110543000000   \n",
      "2  170782000000     119437000000  99803000000       122151000000   \n",
      "3  152836000000     108949000000  94680000000       104038000000   \n",
      "4  104956000000      66288000000  57411000000        80674000000   \n",
      "\n",
      "   capitalexpenditures  cashflowfromfinancing  \n",
      "0           9447000000          -121983000000  \n",
      "1          10959000000          -108488000000  \n",
      "2          10708000000          -110749000000  \n",
      "3          11085000000           -93353000000  \n",
      "4           7309000000           -86820000000  \n"
     ]
    }
   ],
   "source": [
    "import pandas as pd\n",
    "import os\n",
    "\n",
    "# Define the cleaned financial reports path\n",
    "cleaned_data_path = \"/Users/kdn_aigayatrikadam/Desktop/Projects/Project-5/AI Powered financial reporting/backend/data_processing/financial_reports/cleaned\"\n",
    "\n",
    "# Define the required columns for each dataset\n",
    "balance_sheet_cols = [\n",
    "    \"year\", \"totalcurrentassets\", \"totalnoncurrentassets\",\n",
    "    \"totalcurrentliabilities\", \"totalnoncurrentliabilities\", \"totalshareholderequity\"\n",
    "]\n",
    "income_statement_cols = [\n",
    "    \"year\", \"totalrevenue\", \"grossprofit\", \"operatingincome\", \"netincome\"\n",
    "]\n",
    "cash_flow_cols = [\n",
    "    \"year\", \"operatingcashflow\", \"capitalexpenditures\", \"cashflowfromfinancing\"\n",
    "]\n",
    "\n",
    "# Load data for AAPL as an example\n",
    "balance_sheet = pd.read_csv(os.path.join(cleaned_data_path, \"AAPL_balance_sheet_cleaned.csv\"))[balance_sheet_cols]\n",
    "income_statement = pd.read_csv(os.path.join(cleaned_data_path, \"AAPL_income_statement_cleaned.csv\"))[income_statement_cols]\n",
    "cash_flow = pd.read_csv(os.path.join(cleaned_data_path, \"AAPL_cash_flow_cleaned.csv\"))[cash_flow_cols]\n",
    "\n",
    "# Merge datasets on \"year\"\n",
    "merged_data = balance_sheet.merge(income_statement, on=\"year\").merge(cash_flow, on=\"year\")\n",
    "\n",
    "# Print first few rows\n",
    "print(\"Merged Data (first 5 rows):\")\n",
    "print(merged_data.head())\n"
   ]
  },
  {
   "cell_type": "code",
   "execution_count": 10,
   "metadata": {},
   "outputs": [
    {
     "name": "stdout",
     "output_type": "stream",
     "text": [
      "Missing values in each column:\n",
      "year                          0\n",
      "totalcurrentassets            0\n",
      "totalnoncurrentassets         0\n",
      "totalcurrentliabilities       0\n",
      "totalnoncurrentliabilities    0\n",
      "totalshareholderequity        0\n",
      "totalrevenue                  0\n",
      "grossprofit                   0\n",
      "operatingincome               0\n",
      "netincome                     0\n",
      "operatingcashflow             0\n",
      "capitalexpenditures           0\n",
      "cashflowfromfinancing         0\n",
      "dtype: int64\n"
     ]
    }
   ],
   "source": [
    "# Sort the data by year\n",
    "merged_data = merged_data.sort_values(by=\"year\").reset_index(drop=True)\n",
    "\n",
    "# Check for missing values\n",
    "missing_values = merged_data.isnull().sum()\n",
    "\n",
    "print(\"Missing values in each column:\")\n",
    "print(missing_values)\n"
   ]
  },
  {
   "cell_type": "code",
   "execution_count": 11,
   "metadata": {},
   "outputs": [
    {
     "name": "stdout",
     "output_type": "stream",
     "text": [
      "Data normalization complete! Here’s a preview:\n",
      "   year  totalcurrentassets  totalnoncurrentassets  totalcurrentliabilities  \\\n",
      "0  2009            0.000000               0.000000                 0.000000   \n",
      "1  2010            0.077119               0.092835                 0.055893   \n",
      "2  2011            0.102336               0.276692                 0.099851   \n",
      "3  2012            0.198821               0.525294                 0.163968   \n",
      "4  2013            0.317917               0.598266                 0.194995   \n",
      "\n",
      "   totalnoncurrentliabilities  totalshareholderequity  totalrevenue  \\\n",
      "0                    0.000000                0.000000      0.000000   \n",
      "1                    0.041847                0.157714      0.064047   \n",
      "2                    0.110902                0.439179      0.187505   \n",
      "3                    0.200037                0.845352      0.325985   \n",
      "4                    0.221204                0.897487      0.366921   \n",
      "\n",
      "   grossprofit  operatingincome  netincome  operatingcashflow  \\\n",
      "0     0.000000         0.000000   0.000000           0.000000   \n",
      "1     0.051768         0.059609   0.063101           0.075327   \n",
      "2     0.162705         0.197800   0.193157           0.244392   \n",
      "3     0.314693         0.390227   0.365826           0.363392   \n",
      "4     0.288032         0.334233   0.314542           0.388483   \n",
      "\n",
      "   capitalexpenditures  cashflowfromfinancing  \n",
      "0             0.000000               0.993672  \n",
      "1             0.069413               0.998485  \n",
      "2             0.251209               1.000000  \n",
      "3             0.576508               0.974544  \n",
      "4             0.566027               0.855599  \n"
     ]
    }
   ],
   "source": [
    "from sklearn.preprocessing import MinMaxScaler\n",
    "\n",
    "# Initialize the scaler\n",
    "scaler = MinMaxScaler()\n",
    "\n",
    "# Select only numeric columns for scaling (excluding 'year' and 'symbol')\n",
    "numeric_cols = merged_data.select_dtypes(include=['number']).columns.tolist()\n",
    "numeric_cols.remove('year')  # Keep year unchanged\n",
    "\n",
    "# Apply MinMaxScaler\n",
    "merged_data[numeric_cols] = scaler.fit_transform(merged_data[numeric_cols])\n",
    "\n",
    "print(\"Data normalization complete! Here’s a preview:\")\n",
    "print(merged_data.head())\n"
   ]
  },
  {
   "cell_type": "code",
   "execution_count": 17,
   "metadata": {},
   "outputs": [
    {
     "name": "stdout",
     "output_type": "stream",
     "text": [
      "Sequences created! X shape: (11, 5, 1), y shape: (11, 1)\n"
     ]
    }
   ],
   "source": [
    "import numpy as np\n",
    "\n",
    "def create_sequences(data, seq_length):\n",
    "    X, y = [], []\n",
    "    for i in range(len(data) - seq_length):\n",
    "        X.append(data[i:i+seq_length])\n",
    "        y.append(data[i+seq_length])\n",
    "    return np.array(X), np.array(y)\n",
    "\n",
    "# Define sequence length (e.g., using 5 past years to predict the next)\n",
    "SEQ_LENGTH = 5  \n",
    "\n",
    "# Select a new target column for prediction (e.g., totalrevenue)\n",
    "target_col = \"totalrevenue\"  # Change this to any valid column\n",
    "target_data = merged_data[target_col].values.reshape(-1, 1)\n",
    "\n",
    "# Create sequences\n",
    "X, y = create_sequences(target_data, SEQ_LENGTH)\n",
    "\n",
    "print(f\"Sequences created! X shape: {X.shape}, y shape: {y.shape}\")\n"
   ]
  },
  {
   "cell_type": "code",
   "execution_count": 18,
   "metadata": {},
   "outputs": [
    {
     "name": "stdout",
     "output_type": "stream",
     "text": [
      "Train shape: (8, 5, 1), Test shape: (3, 5, 1)\n"
     ]
    }
   ],
   "source": [
    "from sklearn.model_selection import train_test_split\n",
    "\n",
    "# Split into training (80%) and testing (20%) sets\n",
    "X_train, X_test, y_train, y_test = train_test_split(X, y, test_size=0.2, shuffle=False)\n",
    "\n",
    "print(f\"Train shape: {X_train.shape}, Test shape: {X_test.shape}\")\n"
   ]
  },
  {
   "cell_type": "code",
   "execution_count": 19,
   "metadata": {},
   "outputs": [
    {
     "name": "stdout",
     "output_type": "stream",
     "text": [
      "Epoch 1/50\n"
     ]
    },
    {
     "name": "stderr",
     "output_type": "stream",
     "text": [
      "/Users/kdn_aigayatrikadam/Desktop/Projects/Project-5/AI Powered financial reporting/env-financial-reporting/lib/python3.10/site-packages/keras/src/layers/rnn/rnn.py:200: UserWarning: Do not pass an `input_shape`/`input_dim` argument to a layer. When using Sequential models, prefer using an `Input(shape)` object as the first layer in the model instead.\n",
      "  super().__init__(**kwargs)\n"
     ]
    },
    {
     "name": "stdout",
     "output_type": "stream",
     "text": [
      "\u001b[1m1/1\u001b[0m \u001b[32m━━━━━━━━━━━━━━━━━━━━\u001b[0m\u001b[37m\u001b[0m \u001b[1m1s\u001b[0m 625ms/step - loss: 0.3722 - val_loss: 0.9350\n",
      "Epoch 2/50\n",
      "\u001b[1m1/1\u001b[0m \u001b[32m━━━━━━━━━━━━━━━━━━━━\u001b[0m\u001b[37m\u001b[0m \u001b[1m0s\u001b[0m 27ms/step - loss: 0.3636 - val_loss: 0.9175\n",
      "Epoch 3/50\n",
      "\u001b[1m1/1\u001b[0m \u001b[32m━━━━━━━━━━━━━━━━━━━━\u001b[0m\u001b[37m\u001b[0m \u001b[1m0s\u001b[0m 25ms/step - loss: 0.3552 - val_loss: 0.9002\n",
      "Epoch 4/50\n",
      "\u001b[1m1/1\u001b[0m \u001b[32m━━━━━━━━━━━━━━━━━━━━\u001b[0m\u001b[37m\u001b[0m \u001b[1m0s\u001b[0m 26ms/step - loss: 0.3471 - val_loss: 0.8832\n",
      "Epoch 5/50\n",
      "\u001b[1m1/1\u001b[0m \u001b[32m━━━━━━━━━━━━━━━━━━━━\u001b[0m\u001b[37m\u001b[0m \u001b[1m0s\u001b[0m 26ms/step - loss: 0.3392 - val_loss: 0.8665\n",
      "Epoch 6/50\n",
      "\u001b[1m1/1\u001b[0m \u001b[32m━━━━━━━━━━━━━━━━━━━━\u001b[0m\u001b[37m\u001b[0m \u001b[1m0s\u001b[0m 27ms/step - loss: 0.3316 - val_loss: 0.8500\n",
      "Epoch 7/50\n",
      "\u001b[1m1/1\u001b[0m \u001b[32m━━━━━━━━━━━━━━━━━━━━\u001b[0m\u001b[37m\u001b[0m \u001b[1m0s\u001b[0m 26ms/step - loss: 0.3241 - val_loss: 0.8336\n",
      "Epoch 8/50\n",
      "\u001b[1m1/1\u001b[0m \u001b[32m━━━━━━━━━━━━━━━━━━━━\u001b[0m\u001b[37m\u001b[0m \u001b[1m0s\u001b[0m 25ms/step - loss: 0.3167 - val_loss: 0.8173\n",
      "Epoch 9/50\n",
      "\u001b[1m1/1\u001b[0m \u001b[32m━━━━━━━━━━━━━━━━━━━━\u001b[0m\u001b[37m\u001b[0m \u001b[1m0s\u001b[0m 26ms/step - loss: 0.3090 - val_loss: 0.8007\n",
      "Epoch 10/50\n",
      "\u001b[1m1/1\u001b[0m \u001b[32m━━━━━━━━━━━━━━━━━━━━\u001b[0m\u001b[37m\u001b[0m \u001b[1m0s\u001b[0m 26ms/step - loss: 0.3012 - val_loss: 0.7834\n",
      "Epoch 11/50\n",
      "\u001b[1m1/1\u001b[0m \u001b[32m━━━━━━━━━━━━━━━━━━━━\u001b[0m\u001b[37m\u001b[0m \u001b[1m0s\u001b[0m 25ms/step - loss: 0.2931 - val_loss: 0.7655\n",
      "Epoch 12/50\n",
      "\u001b[1m1/1\u001b[0m \u001b[32m━━━━━━━━━━━━━━━━━━━━\u001b[0m\u001b[37m\u001b[0m \u001b[1m0s\u001b[0m 28ms/step - loss: 0.2847 - val_loss: 0.7469\n",
      "Epoch 13/50\n",
      "\u001b[1m1/1\u001b[0m \u001b[32m━━━━━━━━━━━━━━━━━━━━\u001b[0m\u001b[37m\u001b[0m \u001b[1m0s\u001b[0m 25ms/step - loss: 0.2761 - val_loss: 0.7276\n",
      "Epoch 14/50\n",
      "\u001b[1m1/1\u001b[0m \u001b[32m━━━━━━━━━━━━━━━━━━━━\u001b[0m\u001b[37m\u001b[0m \u001b[1m0s\u001b[0m 25ms/step - loss: 0.2673 - val_loss: 0.7076\n",
      "Epoch 15/50\n",
      "\u001b[1m1/1\u001b[0m \u001b[32m━━━━━━━━━━━━━━━━━━━━\u001b[0m\u001b[37m\u001b[0m \u001b[1m0s\u001b[0m 25ms/step - loss: 0.2582 - val_loss: 0.6869\n",
      "Epoch 16/50\n",
      "\u001b[1m1/1\u001b[0m \u001b[32m━━━━━━━━━━━━━━━━━━━━\u001b[0m\u001b[37m\u001b[0m \u001b[1m0s\u001b[0m 26ms/step - loss: 0.2489 - val_loss: 0.6656\n",
      "Epoch 17/50\n",
      "\u001b[1m1/1\u001b[0m \u001b[32m━━━━━━━━━━━━━━━━━━━━\u001b[0m\u001b[37m\u001b[0m \u001b[1m0s\u001b[0m 24ms/step - loss: 0.2393 - val_loss: 0.6434\n",
      "Epoch 18/50\n",
      "\u001b[1m1/1\u001b[0m \u001b[32m━━━━━━━━━━━━━━━━━━━━\u001b[0m\u001b[37m\u001b[0m \u001b[1m0s\u001b[0m 24ms/step - loss: 0.2295 - val_loss: 0.6203\n",
      "Epoch 19/50\n",
      "\u001b[1m1/1\u001b[0m \u001b[32m━━━━━━━━━━━━━━━━━━━━\u001b[0m\u001b[37m\u001b[0m \u001b[1m0s\u001b[0m 23ms/step - loss: 0.2192 - val_loss: 0.5962\n",
      "Epoch 20/50\n",
      "\u001b[1m1/1\u001b[0m \u001b[32m━━━━━━━━━━━━━━━━━━━━\u001b[0m\u001b[37m\u001b[0m \u001b[1m0s\u001b[0m 23ms/step - loss: 0.2086 - val_loss: 0.5709\n",
      "Epoch 21/50\n",
      "\u001b[1m1/1\u001b[0m \u001b[32m━━━━━━━━━━━━━━━━━━━━\u001b[0m\u001b[37m\u001b[0m \u001b[1m0s\u001b[0m 24ms/step - loss: 0.1976 - val_loss: 0.5445\n",
      "Epoch 22/50\n",
      "\u001b[1m1/1\u001b[0m \u001b[32m━━━━━━━━━━━━━━━━━━━━\u001b[0m\u001b[37m\u001b[0m \u001b[1m0s\u001b[0m 23ms/step - loss: 0.1862 - val_loss: 0.5168\n",
      "Epoch 23/50\n",
      "\u001b[1m1/1\u001b[0m \u001b[32m━━━━━━━━━━━━━━━━━━━━\u001b[0m\u001b[37m\u001b[0m \u001b[1m0s\u001b[0m 23ms/step - loss: 0.1745 - val_loss: 0.4879\n",
      "Epoch 24/50\n",
      "\u001b[1m1/1\u001b[0m \u001b[32m━━━━━━━━━━━━━━━━━━━━\u001b[0m\u001b[37m\u001b[0m \u001b[1m0s\u001b[0m 23ms/step - loss: 0.1624 - val_loss: 0.4578\n",
      "Epoch 25/50\n",
      "\u001b[1m1/1\u001b[0m \u001b[32m━━━━━━━━━━━━━━━━━━━━\u001b[0m\u001b[37m\u001b[0m \u001b[1m0s\u001b[0m 24ms/step - loss: 0.1500 - val_loss: 0.4265\n",
      "Epoch 26/50\n",
      "\u001b[1m1/1\u001b[0m \u001b[32m━━━━━━━━━━━━━━━━━━━━\u001b[0m\u001b[37m\u001b[0m \u001b[1m0s\u001b[0m 23ms/step - loss: 0.1374 - val_loss: 0.3942\n",
      "Epoch 27/50\n",
      "\u001b[1m1/1\u001b[0m \u001b[32m━━━━━━━━━━━━━━━━━━━━\u001b[0m\u001b[37m\u001b[0m \u001b[1m0s\u001b[0m 23ms/step - loss: 0.1245 - val_loss: 0.3608\n",
      "Epoch 28/50\n",
      "\u001b[1m1/1\u001b[0m \u001b[32m━━━━━━━━━━━━━━━━━━━━\u001b[0m\u001b[37m\u001b[0m \u001b[1m0s\u001b[0m 23ms/step - loss: 0.1116 - val_loss: 0.3266\n",
      "Epoch 29/50\n",
      "\u001b[1m1/1\u001b[0m \u001b[32m━━━━━━━━━━━━━━━━━━━━\u001b[0m\u001b[37m\u001b[0m \u001b[1m0s\u001b[0m 29ms/step - loss: 0.0986 - val_loss: 0.2918\n",
      "Epoch 30/50\n",
      "\u001b[1m1/1\u001b[0m \u001b[32m━━━━━━━━━━━━━━━━━━━━\u001b[0m\u001b[37m\u001b[0m \u001b[1m0s\u001b[0m 26ms/step - loss: 0.0856 - val_loss: 0.2565\n",
      "Epoch 31/50\n",
      "\u001b[1m1/1\u001b[0m \u001b[32m━━━━━━━━━━━━━━━━━━━━\u001b[0m\u001b[37m\u001b[0m \u001b[1m0s\u001b[0m 23ms/step - loss: 0.0727 - val_loss: 0.2209\n",
      "Epoch 32/50\n",
      "\u001b[1m1/1\u001b[0m \u001b[32m━━━━━━━━━━━━━━━━━━━━\u001b[0m\u001b[37m\u001b[0m \u001b[1m0s\u001b[0m 42ms/step - loss: 0.0601 - val_loss: 0.1853\n",
      "Epoch 33/50\n",
      "\u001b[1m1/1\u001b[0m \u001b[32m━━━━━━━━━━━━━━━━━━━━\u001b[0m\u001b[37m\u001b[0m \u001b[1m0s\u001b[0m 24ms/step - loss: 0.0481 - val_loss: 0.1503\n",
      "Epoch 34/50\n",
      "\u001b[1m1/1\u001b[0m \u001b[32m━━━━━━━━━━━━━━━━━━━━\u001b[0m\u001b[37m\u001b[0m \u001b[1m0s\u001b[0m 23ms/step - loss: 0.0370 - val_loss: 0.1169\n",
      "Epoch 35/50\n",
      "\u001b[1m1/1\u001b[0m \u001b[32m━━━━━━━━━━━━━━━━━━━━\u001b[0m\u001b[37m\u001b[0m \u001b[1m0s\u001b[0m 23ms/step - loss: 0.0270 - val_loss: 0.0860\n",
      "Epoch 36/50\n",
      "\u001b[1m1/1\u001b[0m \u001b[32m━━━━━━━━━━━━━━━━━━━━\u001b[0m\u001b[37m\u001b[0m \u001b[1m0s\u001b[0m 23ms/step - loss: 0.0186 - val_loss: 0.0587\n",
      "Epoch 37/50\n",
      "\u001b[1m1/1\u001b[0m \u001b[32m━━━━━━━━━━━━━━━━━━━━\u001b[0m\u001b[37m\u001b[0m \u001b[1m0s\u001b[0m 23ms/step - loss: 0.0122 - val_loss: 0.0362\n",
      "Epoch 38/50\n",
      "\u001b[1m1/1\u001b[0m \u001b[32m━━━━━━━━━━━━━━━━━━━━\u001b[0m\u001b[37m\u001b[0m \u001b[1m0s\u001b[0m 23ms/step - loss: 0.0081 - val_loss: 0.0195\n",
      "Epoch 39/50\n",
      "\u001b[1m1/1\u001b[0m \u001b[32m━━━━━━━━━━━━━━━━━━━━\u001b[0m\u001b[37m\u001b[0m \u001b[1m0s\u001b[0m 26ms/step - loss: 0.0067 - val_loss: 0.0093\n",
      "Epoch 40/50\n",
      "\u001b[1m1/1\u001b[0m \u001b[32m━━━━━━━━━━━━━━━━━━━━\u001b[0m\u001b[37m\u001b[0m \u001b[1m0s\u001b[0m 24ms/step - loss: 0.0079 - val_loss: 0.0054\n",
      "Epoch 41/50\n",
      "\u001b[1m1/1\u001b[0m \u001b[32m━━━━━━━━━━━━━━━━━━━━\u001b[0m\u001b[37m\u001b[0m \u001b[1m0s\u001b[0m 23ms/step - loss: 0.0113 - val_loss: 0.0060\n",
      "Epoch 42/50\n",
      "\u001b[1m1/1\u001b[0m \u001b[32m━━━━━━━━━━━━━━━━━━━━\u001b[0m\u001b[37m\u001b[0m \u001b[1m0s\u001b[0m 23ms/step - loss: 0.0156 - val_loss: 0.0088\n",
      "Epoch 43/50\n",
      "\u001b[1m1/1\u001b[0m \u001b[32m━━━━━━━━━━━━━━━━━━━━\u001b[0m\u001b[37m\u001b[0m \u001b[1m0s\u001b[0m 23ms/step - loss: 0.0197 - val_loss: 0.0110\n",
      "Epoch 44/50\n",
      "\u001b[1m1/1\u001b[0m \u001b[32m━━━━━━━━━━━━━━━━━━━━\u001b[0m\u001b[37m\u001b[0m \u001b[1m0s\u001b[0m 23ms/step - loss: 0.0222 - val_loss: 0.0116\n",
      "Epoch 45/50\n",
      "\u001b[1m1/1\u001b[0m \u001b[32m━━━━━━━━━━━━━━━━━━━━\u001b[0m\u001b[37m\u001b[0m \u001b[1m0s\u001b[0m 24ms/step - loss: 0.0229 - val_loss: 0.0103\n",
      "Epoch 46/50\n",
      "\u001b[1m1/1\u001b[0m \u001b[32m━━━━━━━━━━━━━━━━━━━━\u001b[0m\u001b[37m\u001b[0m \u001b[1m0s\u001b[0m 23ms/step - loss: 0.0217 - val_loss: 0.0081\n",
      "Epoch 47/50\n",
      "\u001b[1m1/1\u001b[0m \u001b[32m━━━━━━━━━━━━━━━━━━━━\u001b[0m\u001b[37m\u001b[0m \u001b[1m0s\u001b[0m 23ms/step - loss: 0.0193 - val_loss: 0.0061\n",
      "Epoch 48/50\n",
      "\u001b[1m1/1\u001b[0m \u001b[32m━━━━━━━━━━━━━━━━━━━━\u001b[0m\u001b[37m\u001b[0m \u001b[1m0s\u001b[0m 23ms/step - loss: 0.0162 - val_loss: 0.0051\n",
      "Epoch 49/50\n",
      "\u001b[1m1/1\u001b[0m \u001b[32m━━━━━━━━━━━━━━━━━━━━\u001b[0m\u001b[37m\u001b[0m \u001b[1m0s\u001b[0m 24ms/step - loss: 0.0132 - val_loss: 0.0058\n",
      "Epoch 50/50\n",
      "\u001b[1m1/1\u001b[0m \u001b[32m━━━━━━━━━━━━━━━━━━━━\u001b[0m\u001b[37m\u001b[0m \u001b[1m0s\u001b[0m 23ms/step - loss: 0.0106 - val_loss: 0.0082\n",
      "✅ Model training complete!\n"
     ]
    }
   ],
   "source": [
    "import tensorflow as tf\n",
    "from tensorflow.keras.models import Sequential\n",
    "from tensorflow.keras.layers import LSTM, Dense\n",
    "\n",
    "# Build LSTM model\n",
    "model = Sequential([\n",
    "    LSTM(50, activation='relu', return_sequences=True, input_shape=(SEQ_LENGTH, 1)),\n",
    "    LSTM(50, activation='relu'),\n",
    "    Dense(1)  # Output layer (predicting one value)\n",
    "])\n",
    "\n",
    "# Compile the model\n",
    "model.compile(optimizer='adam', loss='mse')\n",
    "\n",
    "# Train the model\n",
    "history = model.fit(X_train, y_train, epochs=50, batch_size=8, validation_data=(X_test, y_test))\n",
    "\n",
    "print(\"✅ Model training complete!\")\n"
   ]
  },
  {
   "cell_type": "code",
   "execution_count": 20,
   "metadata": {},
   "outputs": [
    {
     "name": "stdout",
     "output_type": "stream",
     "text": [
      "\u001b[1m1/1\u001b[0m \u001b[32m━━━━━━━━━━━━━━━━━━━━\u001b[0m\u001b[37m\u001b[0m \u001b[1m0s\u001b[0m 78ms/step\n"
     ]
    },
    {
     "data": {
      "image/png": "[encoded data removed]",
      "text/plain": [
       "<Figure size 1000x500 with 1 Axes>"
      ]
     },
     "metadata": {},
     "output_type": "display_data"
    }
   ],
   "source": [
    "import matplotlib.pyplot as plt\n",
    "\n",
    "# Predict on the test set\n",
    "y_pred = model.predict(X_test)\n",
    "\n",
    "# Convert to original scale (if needed)\n",
    "# y_test = scaler.inverse_transform(y_test.reshape(-1, 1))\n",
    "# y_pred = scaler.inverse_transform(y_pred)\n",
    "\n",
    "# Plot actual vs. predicted values\n",
    "plt.figure(figsize=(10, 5))\n",
    "plt.plot(y_test, label=\"Actual\", marker=\"o\")\n",
    "plt.plot(y_pred, label=\"Predicted\", marker=\"o\", linestyle=\"dashed\")\n",
    "plt.xlabel(\"Time\")\n",
    "plt.ylabel(\"Financial Metric Value\")\n",
    "plt.legend()\n",
    "plt.title(\"LSTM Model - Actual vs Predicted\")\n",
    "plt.show()\n"
   ]
  },
  {
   "cell_type": "code",
   "execution_count": null,
   "metadata": {},
   "outputs": [],
   "source": [
    "# Ensure we inverse transform only the target column\n",
    "if 'scaler' in globals():\n",
    "    # Get number of features from scaler\n",
    "    num_features = scaler.scale_.shape[0]\n",
    "\n",
    "    # Pad y_test and y_pred to match num_features\n",
    "    padding_test = np.zeros((y_test.shape[0], num_features - 1))  # Exclude the target column\n",
    "    y_test_padded = np.concatenate((y_test, padding_test), axis=1)\n",
    "\n",
    "    padding_pred = np.zeros((y_pred.shape[0], num_features - 1))\n",
    "    y_pred_padded = np.concatenate((y_pred, padding_pred), axis=1)\n",
    "\n",
    "    # Inverse transform and extract the target column\n",
    "    y_test_original = scaler.inverse_transform(y_test_padded)[:, 0]\n",
    "    y_pred_original = scaler.inverse_transform(y_pred_padded)[:, 0]\n",
    "else:\n",
    "    y_test_original = y_test\n",
    "    y_pred_original = y_pred\n"
   ]
  },
  {
   "cell_type": "code",
   "execution_count": 27,
   "metadata": {},
   "outputs": [
    {
     "name": "stdout",
     "output_type": "stream",
     "text": [
      "📉 Mean Squared Error (MSE): 142065234628870733824.00\n",
      "📊 Mean Absolute Error (MAE): 8477160457.46\n",
      "📈 R² Score: -30.9911\n"
     ]
    }
   ],
   "source": [
    "from sklearn.metrics import mean_squared_error, mean_absolute_error, r2_score\n",
    "\n",
    "# Calculate error metrics\n",
    "mse = mean_squared_error(y_test_original, y_pred_original)\n",
    "mae = mean_absolute_error(y_test_original, y_pred_original)\n",
    "r2 = r2_score(y_test_original, y_pred_original)\n",
    "\n",
    "print(f\"📉 Mean Squared Error (MSE): {mse:.2f}\")\n",
    "print(f\"📊 Mean Absolute Error (MAE): {mae:.2f}\")\n",
    "print(f\"📈 R² Score: {r2:.4f}\")\n"
   ]
  },
  {
   "cell_type": "code",
   "execution_count": 28,
   "metadata": {},
   "outputs": [
    {
     "data": {
      "image/png": "[encoded data removed]",
      "text/plain": [
       "<Figure size 1000x500 with 1 Axes>"
      ]
     },
     "metadata": {},
     "output_type": "display_data"
    }
   ],
   "source": [
    "import matplotlib.pyplot as plt\n",
    "\n",
    "# Plot actual vs. predicted values\n",
    "plt.figure(figsize=(10, 5))\n",
    "plt.plot(y_test_original, label=\"Actual\", marker='o', linestyle='dashed', color='blue')\n",
    "plt.plot(y_pred_original, label=\"Predicted\", marker='s', linestyle='dotted', color='red')\n",
    "plt.title(\"Actual vs Predicted Financial Data\")\n",
    "plt.xlabel(\"Time Steps\")\n",
    "plt.ylabel(\"Value\")\n",
    "plt.legend()\n",
    "plt.grid(True)\n",
    "plt.show()\n"
   ]
  },
  {
   "cell_type": "code",
   "execution_count": null,
   "metadata": {},
   "outputs": [],
   "source": []
  }
 ],
 "metadata": {
  "kernelspec": {
   "display_name": "env-financial-reporting",
   "language": "python",
   "name": "python3"
  },
  "language_info": {
   "codemirror_mode": {
    "name": "ipython",
    "version": 3
   },
   "file_extension": ".py",
   "mimetype": "text/x-python",
   "name": "python",
   "nbconvert_exporter": "python",
   "pygments_lexer": "ipython3",
   "version": "3.10.12"
  }
 },
 "nbformat": 4,
 "nbformat_minor": 2
}
