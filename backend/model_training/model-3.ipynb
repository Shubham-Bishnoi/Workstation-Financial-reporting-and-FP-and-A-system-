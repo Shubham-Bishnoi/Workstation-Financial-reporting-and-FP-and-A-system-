{
 "cells": [
  {
   "cell_type": "code",
   "execution_count": 9,
   "metadata": {},
   "outputs": [
    {
     "name": "stdout",
     "output_type": "stream",
     "text": [
      "Warning - Certain functionality \n",
      "             requires requests_html, which is not installed.\n",
      "             \n",
      "             Install using: \n",
      "             pip install requests_html\n",
      "             \n",
      "             After installation, you may have to restart your Python session.\n"
     ]
    }
   ],
   "source": [
    "from yahoo_fin import stock_info as si\n",
    "import pandas as pd\n",
    "import time\n",
    "\n",
    "def fetch_quarterly_data(ticker):\n",
    "    try:\n",
    "        income_q = si.get_income_statement(ticker, yearly=False).T\n",
    "        balance_q = si.get_balance_sheet(ticker, yearly=False).T\n",
    "        cashflow_q = si.get_cash_flow(ticker, yearly=False).T\n",
    "\n",
    "        df = income_q.join(balance_q, rsuffix='_balance').join(cashflow_q, rsuffix='_cashflow')\n",
    "        df[\"symbol\"] = ticker\n",
    "        df[\"quarter\"] = df.index\n",
    "        df = df.reset_index(drop=True)\n",
    "        return df\n",
    "    except Exception as e:\n",
    "        print(f\"⚠️ Failed for {ticker}: {e}\")\n",
    "        return None"
   ]
  },
  {
   "cell_type": "code",
   "execution_count": null,
   "metadata": {},
   "outputs": [],
   "source": []
  }
 ],
 "metadata": {
  "language_info": {
   "name": "python"
  }
 },
 "nbformat": 4,
 "nbformat_minor": 2
}
